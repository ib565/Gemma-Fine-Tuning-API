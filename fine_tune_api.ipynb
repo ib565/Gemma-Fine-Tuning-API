{
  "nbformat": 4,
  "nbformat_minor": 0,
  "metadata": {
    "colab": {
      "provenance": [],
      "gpuType": "T4",
      "authorship_tag": "ABX9TyOGlt9oCsI8APP+jwxjOXeU",
      "include_colab_link": true
    },
    "kernelspec": {
      "name": "python3",
      "display_name": "Python 3"
    },
    "language_info": {
      "name": "python"
    },
    "accelerator": "GPU",
    "widgets": {
      "application/vnd.jupyter.widget-state+json": {
        "d3c401c7a76043ebae5ec2d2d24386ca": {
          "model_module": "@jupyter-widgets/controls",
          "model_name": "HBoxModel",
          "model_module_version": "1.5.0",
          "state": {
            "_dom_classes": [],
            "_model_module": "@jupyter-widgets/controls",
            "_model_module_version": "1.5.0",
            "_model_name": "HBoxModel",
            "_view_count": null,
            "_view_module": "@jupyter-widgets/controls",
            "_view_module_version": "1.5.0",
            "_view_name": "HBoxView",
            "box_style": "",
            "children": [
              "IPY_MODEL_4ccda3bbb0fd447da88b4db29c049049",
              "IPY_MODEL_3112494818a140d383449be0cdd26b0a",
              "IPY_MODEL_0074fd8521324a7fafc71f8be7fa40c0"
            ],
            "layout": "IPY_MODEL_97a2da0ba9d344fca3ff9c6c61c3f3a8"
          }
        },
        "4ccda3bbb0fd447da88b4db29c049049": {
          "model_module": "@jupyter-widgets/controls",
          "model_name": "HTMLModel",
          "model_module_version": "1.5.0",
          "state": {
            "_dom_classes": [],
            "_model_module": "@jupyter-widgets/controls",
            "_model_module_version": "1.5.0",
            "_model_name": "HTMLModel",
            "_view_count": null,
            "_view_module": "@jupyter-widgets/controls",
            "_view_module_version": "1.5.0",
            "_view_name": "HTMLView",
            "description": "",
            "description_tooltip": null,
            "layout": "IPY_MODEL_91a98955bd1e41ad9e6780ed8a948f78",
            "placeholder": "​",
            "style": "IPY_MODEL_7ad164af788049a6b3923b7d2fc55111",
            "value": "Generating train split: "
          }
        },
        "3112494818a140d383449be0cdd26b0a": {
          "model_module": "@jupyter-widgets/controls",
          "model_name": "FloatProgressModel",
          "model_module_version": "1.5.0",
          "state": {
            "_dom_classes": [],
            "_model_module": "@jupyter-widgets/controls",
            "_model_module_version": "1.5.0",
            "_model_name": "FloatProgressModel",
            "_view_count": null,
            "_view_module": "@jupyter-widgets/controls",
            "_view_module_version": "1.5.0",
            "_view_name": "ProgressView",
            "bar_style": "success",
            "description": "",
            "description_tooltip": null,
            "layout": "IPY_MODEL_29c9cb55cc2d4ab394788a6d51ebe1ea",
            "max": 1,
            "min": 0,
            "orientation": "horizontal",
            "style": "IPY_MODEL_56c215af2b9e4f9f81b13ef5f1531d5a",
            "value": 1
          }
        },
        "0074fd8521324a7fafc71f8be7fa40c0": {
          "model_module": "@jupyter-widgets/controls",
          "model_name": "HTMLModel",
          "model_module_version": "1.5.0",
          "state": {
            "_dom_classes": [],
            "_model_module": "@jupyter-widgets/controls",
            "_model_module_version": "1.5.0",
            "_model_name": "HTMLModel",
            "_view_count": null,
            "_view_module": "@jupyter-widgets/controls",
            "_view_module_version": "1.5.0",
            "_view_name": "HTMLView",
            "description": "",
            "description_tooltip": null,
            "layout": "IPY_MODEL_459d94cb712a451f9fc500df9cc16957",
            "placeholder": "​",
            "style": "IPY_MODEL_fed63674f7aa4b65858537e808bda2b2",
            "value": " 100860/0 [00:10&lt;00:00, 9971.86 examples/s]"
          }
        },
        "97a2da0ba9d344fca3ff9c6c61c3f3a8": {
          "model_module": "@jupyter-widgets/base",
          "model_name": "LayoutModel",
          "model_module_version": "1.2.0",
          "state": {
            "_model_module": "@jupyter-widgets/base",
            "_model_module_version": "1.2.0",
            "_model_name": "LayoutModel",
            "_view_count": null,
            "_view_module": "@jupyter-widgets/base",
            "_view_module_version": "1.2.0",
            "_view_name": "LayoutView",
            "align_content": null,
            "align_items": null,
            "align_self": null,
            "border": null,
            "bottom": null,
            "display": null,
            "flex": null,
            "flex_flow": null,
            "grid_area": null,
            "grid_auto_columns": null,
            "grid_auto_flow": null,
            "grid_auto_rows": null,
            "grid_column": null,
            "grid_gap": null,
            "grid_row": null,
            "grid_template_areas": null,
            "grid_template_columns": null,
            "grid_template_rows": null,
            "height": null,
            "justify_content": null,
            "justify_items": null,
            "left": null,
            "margin": null,
            "max_height": null,
            "max_width": null,
            "min_height": null,
            "min_width": null,
            "object_fit": null,
            "object_position": null,
            "order": null,
            "overflow": null,
            "overflow_x": null,
            "overflow_y": null,
            "padding": null,
            "right": null,
            "top": null,
            "visibility": null,
            "width": null
          }
        },
        "91a98955bd1e41ad9e6780ed8a948f78": {
          "model_module": "@jupyter-widgets/base",
          "model_name": "LayoutModel",
          "model_module_version": "1.2.0",
          "state": {
            "_model_module": "@jupyter-widgets/base",
            "_model_module_version": "1.2.0",
            "_model_name": "LayoutModel",
            "_view_count": null,
            "_view_module": "@jupyter-widgets/base",
            "_view_module_version": "1.2.0",
            "_view_name": "LayoutView",
            "align_content": null,
            "align_items": null,
            "align_self": null,
            "border": null,
            "bottom": null,
            "display": null,
            "flex": null,
            "flex_flow": null,
            "grid_area": null,
            "grid_auto_columns": null,
            "grid_auto_flow": null,
            "grid_auto_rows": null,
            "grid_column": null,
            "grid_gap": null,
            "grid_row": null,
            "grid_template_areas": null,
            "grid_template_columns": null,
            "grid_template_rows": null,
            "height": null,
            "justify_content": null,
            "justify_items": null,
            "left": null,
            "margin": null,
            "max_height": null,
            "max_width": null,
            "min_height": null,
            "min_width": null,
            "object_fit": null,
            "object_position": null,
            "order": null,
            "overflow": null,
            "overflow_x": null,
            "overflow_y": null,
            "padding": null,
            "right": null,
            "top": null,
            "visibility": null,
            "width": null
          }
        },
        "7ad164af788049a6b3923b7d2fc55111": {
          "model_module": "@jupyter-widgets/controls",
          "model_name": "DescriptionStyleModel",
          "model_module_version": "1.5.0",
          "state": {
            "_model_module": "@jupyter-widgets/controls",
            "_model_module_version": "1.5.0",
            "_model_name": "DescriptionStyleModel",
            "_view_count": null,
            "_view_module": "@jupyter-widgets/base",
            "_view_module_version": "1.2.0",
            "_view_name": "StyleView",
            "description_width": ""
          }
        },
        "29c9cb55cc2d4ab394788a6d51ebe1ea": {
          "model_module": "@jupyter-widgets/base",
          "model_name": "LayoutModel",
          "model_module_version": "1.2.0",
          "state": {
            "_model_module": "@jupyter-widgets/base",
            "_model_module_version": "1.2.0",
            "_model_name": "LayoutModel",
            "_view_count": null,
            "_view_module": "@jupyter-widgets/base",
            "_view_module_version": "1.2.0",
            "_view_name": "LayoutView",
            "align_content": null,
            "align_items": null,
            "align_self": null,
            "border": null,
            "bottom": null,
            "display": null,
            "flex": null,
            "flex_flow": null,
            "grid_area": null,
            "grid_auto_columns": null,
            "grid_auto_flow": null,
            "grid_auto_rows": null,
            "grid_column": null,
            "grid_gap": null,
            "grid_row": null,
            "grid_template_areas": null,
            "grid_template_columns": null,
            "grid_template_rows": null,
            "height": null,
            "justify_content": null,
            "justify_items": null,
            "left": null,
            "margin": null,
            "max_height": null,
            "max_width": null,
            "min_height": null,
            "min_width": null,
            "object_fit": null,
            "object_position": null,
            "order": null,
            "overflow": null,
            "overflow_x": null,
            "overflow_y": null,
            "padding": null,
            "right": null,
            "top": null,
            "visibility": null,
            "width": "20px"
          }
        },
        "56c215af2b9e4f9f81b13ef5f1531d5a": {
          "model_module": "@jupyter-widgets/controls",
          "model_name": "ProgressStyleModel",
          "model_module_version": "1.5.0",
          "state": {
            "_model_module": "@jupyter-widgets/controls",
            "_model_module_version": "1.5.0",
            "_model_name": "ProgressStyleModel",
            "_view_count": null,
            "_view_module": "@jupyter-widgets/base",
            "_view_module_version": "1.2.0",
            "_view_name": "StyleView",
            "bar_color": null,
            "description_width": ""
          }
        },
        "459d94cb712a451f9fc500df9cc16957": {
          "model_module": "@jupyter-widgets/base",
          "model_name": "LayoutModel",
          "model_module_version": "1.2.0",
          "state": {
            "_model_module": "@jupyter-widgets/base",
            "_model_module_version": "1.2.0",
            "_model_name": "LayoutModel",
            "_view_count": null,
            "_view_module": "@jupyter-widgets/base",
            "_view_module_version": "1.2.0",
            "_view_name": "LayoutView",
            "align_content": null,
            "align_items": null,
            "align_self": null,
            "border": null,
            "bottom": null,
            "display": null,
            "flex": null,
            "flex_flow": null,
            "grid_area": null,
            "grid_auto_columns": null,
            "grid_auto_flow": null,
            "grid_auto_rows": null,
            "grid_column": null,
            "grid_gap": null,
            "grid_row": null,
            "grid_template_areas": null,
            "grid_template_columns": null,
            "grid_template_rows": null,
            "height": null,
            "justify_content": null,
            "justify_items": null,
            "left": null,
            "margin": null,
            "max_height": null,
            "max_width": null,
            "min_height": null,
            "min_width": null,
            "object_fit": null,
            "object_position": null,
            "order": null,
            "overflow": null,
            "overflow_x": null,
            "overflow_y": null,
            "padding": null,
            "right": null,
            "top": null,
            "visibility": null,
            "width": null
          }
        },
        "fed63674f7aa4b65858537e808bda2b2": {
          "model_module": "@jupyter-widgets/controls",
          "model_name": "DescriptionStyleModel",
          "model_module_version": "1.5.0",
          "state": {
            "_model_module": "@jupyter-widgets/controls",
            "_model_module_version": "1.5.0",
            "_model_name": "DescriptionStyleModel",
            "_view_count": null,
            "_view_module": "@jupyter-widgets/base",
            "_view_module_version": "1.2.0",
            "_view_name": "StyleView",
            "description_width": ""
          }
        },
        "482c2efabb9b49b2872ee1da4d2f8b61": {
          "model_module": "@jupyter-widgets/controls",
          "model_name": "HBoxModel",
          "model_module_version": "1.5.0",
          "state": {
            "_dom_classes": [],
            "_model_module": "@jupyter-widgets/controls",
            "_model_module_version": "1.5.0",
            "_model_name": "HBoxModel",
            "_view_count": null,
            "_view_module": "@jupyter-widgets/controls",
            "_view_module_version": "1.5.0",
            "_view_name": "HBoxView",
            "box_style": "",
            "children": [
              "IPY_MODEL_81f3d7585aa4447d8148e583f3fb03d1",
              "IPY_MODEL_ca55af7e60af477bb70d893be7d0adf1",
              "IPY_MODEL_8c9bad7f8a7c4010b0d319e59c61f41d"
            ],
            "layout": "IPY_MODEL_90839db6132d43ac8317061af96ecc06"
          }
        },
        "81f3d7585aa4447d8148e583f3fb03d1": {
          "model_module": "@jupyter-widgets/controls",
          "model_name": "HTMLModel",
          "model_module_version": "1.5.0",
          "state": {
            "_dom_classes": [],
            "_model_module": "@jupyter-widgets/controls",
            "_model_module_version": "1.5.0",
            "_model_name": "HTMLModel",
            "_view_count": null,
            "_view_module": "@jupyter-widgets/controls",
            "_view_module_version": "1.5.0",
            "_view_name": "HTMLView",
            "description": "",
            "description_tooltip": null,
            "layout": "IPY_MODEL_8526f964ab354eaebae638ce447aeaa8",
            "placeholder": "​",
            "style": "IPY_MODEL_6eb9ce031d814537a7cb348e6de0cf01",
            "value": "Unsloth: Standardizing formats (num_proc=2): 100%"
          }
        },
        "ca55af7e60af477bb70d893be7d0adf1": {
          "model_module": "@jupyter-widgets/controls",
          "model_name": "FloatProgressModel",
          "model_module_version": "1.5.0",
          "state": {
            "_dom_classes": [],
            "_model_module": "@jupyter-widgets/controls",
            "_model_module_version": "1.5.0",
            "_model_name": "FloatProgressModel",
            "_view_count": null,
            "_view_module": "@jupyter-widgets/controls",
            "_view_module_version": "1.5.0",
            "_view_name": "ProgressView",
            "bar_style": "success",
            "description": "",
            "description_tooltip": null,
            "layout": "IPY_MODEL_b0a43bb7433a4e509ba200de7c4a98ac",
            "max": 100860,
            "min": 0,
            "orientation": "horizontal",
            "style": "IPY_MODEL_42a434c93ecf4d06ab711b4846b0ab89",
            "value": 100860
          }
        },
        "8c9bad7f8a7c4010b0d319e59c61f41d": {
          "model_module": "@jupyter-widgets/controls",
          "model_name": "HTMLModel",
          "model_module_version": "1.5.0",
          "state": {
            "_dom_classes": [],
            "_model_module": "@jupyter-widgets/controls",
            "_model_module_version": "1.5.0",
            "_model_name": "HTMLModel",
            "_view_count": null,
            "_view_module": "@jupyter-widgets/controls",
            "_view_module_version": "1.5.0",
            "_view_name": "HTMLView",
            "description": "",
            "description_tooltip": null,
            "layout": "IPY_MODEL_d90af28e65394e208e430fe0ddfd6615",
            "placeholder": "​",
            "style": "IPY_MODEL_e3ae889b422f4295817eb9f004cfdcb2",
            "value": " 100860/100860 [00:06&lt;00:00, 2713.07 examples/s]"
          }
        },
        "90839db6132d43ac8317061af96ecc06": {
          "model_module": "@jupyter-widgets/base",
          "model_name": "LayoutModel",
          "model_module_version": "1.2.0",
          "state": {
            "_model_module": "@jupyter-widgets/base",
            "_model_module_version": "1.2.0",
            "_model_name": "LayoutModel",
            "_view_count": null,
            "_view_module": "@jupyter-widgets/base",
            "_view_module_version": "1.2.0",
            "_view_name": "LayoutView",
            "align_content": null,
            "align_items": null,
            "align_self": null,
            "border": null,
            "bottom": null,
            "display": null,
            "flex": null,
            "flex_flow": null,
            "grid_area": null,
            "grid_auto_columns": null,
            "grid_auto_flow": null,
            "grid_auto_rows": null,
            "grid_column": null,
            "grid_gap": null,
            "grid_row": null,
            "grid_template_areas": null,
            "grid_template_columns": null,
            "grid_template_rows": null,
            "height": null,
            "justify_content": null,
            "justify_items": null,
            "left": null,
            "margin": null,
            "max_height": null,
            "max_width": null,
            "min_height": null,
            "min_width": null,
            "object_fit": null,
            "object_position": null,
            "order": null,
            "overflow": null,
            "overflow_x": null,
            "overflow_y": null,
            "padding": null,
            "right": null,
            "top": null,
            "visibility": null,
            "width": null
          }
        },
        "8526f964ab354eaebae638ce447aeaa8": {
          "model_module": "@jupyter-widgets/base",
          "model_name": "LayoutModel",
          "model_module_version": "1.2.0",
          "state": {
            "_model_module": "@jupyter-widgets/base",
            "_model_module_version": "1.2.0",
            "_model_name": "LayoutModel",
            "_view_count": null,
            "_view_module": "@jupyter-widgets/base",
            "_view_module_version": "1.2.0",
            "_view_name": "LayoutView",
            "align_content": null,
            "align_items": null,
            "align_self": null,
            "border": null,
            "bottom": null,
            "display": null,
            "flex": null,
            "flex_flow": null,
            "grid_area": null,
            "grid_auto_columns": null,
            "grid_auto_flow": null,
            "grid_auto_rows": null,
            "grid_column": null,
            "grid_gap": null,
            "grid_row": null,
            "grid_template_areas": null,
            "grid_template_columns": null,
            "grid_template_rows": null,
            "height": null,
            "justify_content": null,
            "justify_items": null,
            "left": null,
            "margin": null,
            "max_height": null,
            "max_width": null,
            "min_height": null,
            "min_width": null,
            "object_fit": null,
            "object_position": null,
            "order": null,
            "overflow": null,
            "overflow_x": null,
            "overflow_y": null,
            "padding": null,
            "right": null,
            "top": null,
            "visibility": null,
            "width": null
          }
        },
        "6eb9ce031d814537a7cb348e6de0cf01": {
          "model_module": "@jupyter-widgets/controls",
          "model_name": "DescriptionStyleModel",
          "model_module_version": "1.5.0",
          "state": {
            "_model_module": "@jupyter-widgets/controls",
            "_model_module_version": "1.5.0",
            "_model_name": "DescriptionStyleModel",
            "_view_count": null,
            "_view_module": "@jupyter-widgets/base",
            "_view_module_version": "1.2.0",
            "_view_name": "StyleView",
            "description_width": ""
          }
        },
        "b0a43bb7433a4e509ba200de7c4a98ac": {
          "model_module": "@jupyter-widgets/base",
          "model_name": "LayoutModel",
          "model_module_version": "1.2.0",
          "state": {
            "_model_module": "@jupyter-widgets/base",
            "_model_module_version": "1.2.0",
            "_model_name": "LayoutModel",
            "_view_count": null,
            "_view_module": "@jupyter-widgets/base",
            "_view_module_version": "1.2.0",
            "_view_name": "LayoutView",
            "align_content": null,
            "align_items": null,
            "align_self": null,
            "border": null,
            "bottom": null,
            "display": null,
            "flex": null,
            "flex_flow": null,
            "grid_area": null,
            "grid_auto_columns": null,
            "grid_auto_flow": null,
            "grid_auto_rows": null,
            "grid_column": null,
            "grid_gap": null,
            "grid_row": null,
            "grid_template_areas": null,
            "grid_template_columns": null,
            "grid_template_rows": null,
            "height": null,
            "justify_content": null,
            "justify_items": null,
            "left": null,
            "margin": null,
            "max_height": null,
            "max_width": null,
            "min_height": null,
            "min_width": null,
            "object_fit": null,
            "object_position": null,
            "order": null,
            "overflow": null,
            "overflow_x": null,
            "overflow_y": null,
            "padding": null,
            "right": null,
            "top": null,
            "visibility": null,
            "width": null
          }
        },
        "42a434c93ecf4d06ab711b4846b0ab89": {
          "model_module": "@jupyter-widgets/controls",
          "model_name": "ProgressStyleModel",
          "model_module_version": "1.5.0",
          "state": {
            "_model_module": "@jupyter-widgets/controls",
            "_model_module_version": "1.5.0",
            "_model_name": "ProgressStyleModel",
            "_view_count": null,
            "_view_module": "@jupyter-widgets/base",
            "_view_module_version": "1.2.0",
            "_view_name": "StyleView",
            "bar_color": null,
            "description_width": ""
          }
        },
        "d90af28e65394e208e430fe0ddfd6615": {
          "model_module": "@jupyter-widgets/base",
          "model_name": "LayoutModel",
          "model_module_version": "1.2.0",
          "state": {
            "_model_module": "@jupyter-widgets/base",
            "_model_module_version": "1.2.0",
            "_model_name": "LayoutModel",
            "_view_count": null,
            "_view_module": "@jupyter-widgets/base",
            "_view_module_version": "1.2.0",
            "_view_name": "LayoutView",
            "align_content": null,
            "align_items": null,
            "align_self": null,
            "border": null,
            "bottom": null,
            "display": null,
            "flex": null,
            "flex_flow": null,
            "grid_area": null,
            "grid_auto_columns": null,
            "grid_auto_flow": null,
            "grid_auto_rows": null,
            "grid_column": null,
            "grid_gap": null,
            "grid_row": null,
            "grid_template_areas": null,
            "grid_template_columns": null,
            "grid_template_rows": null,
            "height": null,
            "justify_content": null,
            "justify_items": null,
            "left": null,
            "margin": null,
            "max_height": null,
            "max_width": null,
            "min_height": null,
            "min_width": null,
            "object_fit": null,
            "object_position": null,
            "order": null,
            "overflow": null,
            "overflow_x": null,
            "overflow_y": null,
            "padding": null,
            "right": null,
            "top": null,
            "visibility": null,
            "width": null
          }
        },
        "e3ae889b422f4295817eb9f004cfdcb2": {
          "model_module": "@jupyter-widgets/controls",
          "model_name": "DescriptionStyleModel",
          "model_module_version": "1.5.0",
          "state": {
            "_model_module": "@jupyter-widgets/controls",
            "_model_module_version": "1.5.0",
            "_model_name": "DescriptionStyleModel",
            "_view_count": null,
            "_view_module": "@jupyter-widgets/base",
            "_view_module_version": "1.2.0",
            "_view_name": "StyleView",
            "description_width": ""
          }
        },
        "6efd574646844c0e8badfe777b60ebc5": {
          "model_module": "@jupyter-widgets/controls",
          "model_name": "HBoxModel",
          "model_module_version": "1.5.0",
          "state": {
            "_dom_classes": [],
            "_model_module": "@jupyter-widgets/controls",
            "_model_module_version": "1.5.0",
            "_model_name": "HBoxModel",
            "_view_count": null,
            "_view_module": "@jupyter-widgets/controls",
            "_view_module_version": "1.5.0",
            "_view_name": "HBoxView",
            "box_style": "",
            "children": [
              "IPY_MODEL_1419c10b56b6471c91a73acf198a3b06",
              "IPY_MODEL_c3bb2b844f2a4785837f2a7230e20a25",
              "IPY_MODEL_de16456c62c84a8b9547864cdeab58cd"
            ],
            "layout": "IPY_MODEL_287b33437c624d64ba1834d04b026d93"
          }
        },
        "1419c10b56b6471c91a73acf198a3b06": {
          "model_module": "@jupyter-widgets/controls",
          "model_name": "HTMLModel",
          "model_module_version": "1.5.0",
          "state": {
            "_dom_classes": [],
            "_model_module": "@jupyter-widgets/controls",
            "_model_module_version": "1.5.0",
            "_model_name": "HTMLModel",
            "_view_count": null,
            "_view_module": "@jupyter-widgets/controls",
            "_view_module_version": "1.5.0",
            "_view_name": "HTMLView",
            "description": "",
            "description_tooltip": null,
            "layout": "IPY_MODEL_5169b0d3a0f640978cb0d8f395d11cd9",
            "placeholder": "​",
            "style": "IPY_MODEL_337e5266273744609fcdbfeb55479972",
            "value": "Map: 100%"
          }
        },
        "c3bb2b844f2a4785837f2a7230e20a25": {
          "model_module": "@jupyter-widgets/controls",
          "model_name": "FloatProgressModel",
          "model_module_version": "1.5.0",
          "state": {
            "_dom_classes": [],
            "_model_module": "@jupyter-widgets/controls",
            "_model_module_version": "1.5.0",
            "_model_name": "FloatProgressModel",
            "_view_count": null,
            "_view_module": "@jupyter-widgets/controls",
            "_view_module_version": "1.5.0",
            "_view_name": "ProgressView",
            "bar_style": "success",
            "description": "",
            "description_tooltip": null,
            "layout": "IPY_MODEL_89b6e4a06dcf457f916599ffbcdbd019",
            "max": 100860,
            "min": 0,
            "orientation": "horizontal",
            "style": "IPY_MODEL_ce5448656ba041ffaf5bdebf051398e3",
            "value": 100860
          }
        },
        "de16456c62c84a8b9547864cdeab58cd": {
          "model_module": "@jupyter-widgets/controls",
          "model_name": "HTMLModel",
          "model_module_version": "1.5.0",
          "state": {
            "_dom_classes": [],
            "_model_module": "@jupyter-widgets/controls",
            "_model_module_version": "1.5.0",
            "_model_name": "HTMLModel",
            "_view_count": null,
            "_view_module": "@jupyter-widgets/controls",
            "_view_module_version": "1.5.0",
            "_view_name": "HTMLView",
            "description": "",
            "description_tooltip": null,
            "layout": "IPY_MODEL_cf873f09112b4e0ba9e42bd7167282dc",
            "placeholder": "​",
            "style": "IPY_MODEL_0a710b1e6d49463895b1d4258756dbe7",
            "value": " 100860/100860 [00:21&lt;00:00, 2936.00 examples/s]"
          }
        },
        "287b33437c624d64ba1834d04b026d93": {
          "model_module": "@jupyter-widgets/base",
          "model_name": "LayoutModel",
          "model_module_version": "1.2.0",
          "state": {
            "_model_module": "@jupyter-widgets/base",
            "_model_module_version": "1.2.0",
            "_model_name": "LayoutModel",
            "_view_count": null,
            "_view_module": "@jupyter-widgets/base",
            "_view_module_version": "1.2.0",
            "_view_name": "LayoutView",
            "align_content": null,
            "align_items": null,
            "align_self": null,
            "border": null,
            "bottom": null,
            "display": null,
            "flex": null,
            "flex_flow": null,
            "grid_area": null,
            "grid_auto_columns": null,
            "grid_auto_flow": null,
            "grid_auto_rows": null,
            "grid_column": null,
            "grid_gap": null,
            "grid_row": null,
            "grid_template_areas": null,
            "grid_template_columns": null,
            "grid_template_rows": null,
            "height": null,
            "justify_content": null,
            "justify_items": null,
            "left": null,
            "margin": null,
            "max_height": null,
            "max_width": null,
            "min_height": null,
            "min_width": null,
            "object_fit": null,
            "object_position": null,
            "order": null,
            "overflow": null,
            "overflow_x": null,
            "overflow_y": null,
            "padding": null,
            "right": null,
            "top": null,
            "visibility": null,
            "width": null
          }
        },
        "5169b0d3a0f640978cb0d8f395d11cd9": {
          "model_module": "@jupyter-widgets/base",
          "model_name": "LayoutModel",
          "model_module_version": "1.2.0",
          "state": {
            "_model_module": "@jupyter-widgets/base",
            "_model_module_version": "1.2.0",
            "_model_name": "LayoutModel",
            "_view_count": null,
            "_view_module": "@jupyter-widgets/base",
            "_view_module_version": "1.2.0",
            "_view_name": "LayoutView",
            "align_content": null,
            "align_items": null,
            "align_self": null,
            "border": null,
            "bottom": null,
            "display": null,
            "flex": null,
            "flex_flow": null,
            "grid_area": null,
            "grid_auto_columns": null,
            "grid_auto_flow": null,
            "grid_auto_rows": null,
            "grid_column": null,
            "grid_gap": null,
            "grid_row": null,
            "grid_template_areas": null,
            "grid_template_columns": null,
            "grid_template_rows": null,
            "height": null,
            "justify_content": null,
            "justify_items": null,
            "left": null,
            "margin": null,
            "max_height": null,
            "max_width": null,
            "min_height": null,
            "min_width": null,
            "object_fit": null,
            "object_position": null,
            "order": null,
            "overflow": null,
            "overflow_x": null,
            "overflow_y": null,
            "padding": null,
            "right": null,
            "top": null,
            "visibility": null,
            "width": null
          }
        },
        "337e5266273744609fcdbfeb55479972": {
          "model_module": "@jupyter-widgets/controls",
          "model_name": "DescriptionStyleModel",
          "model_module_version": "1.5.0",
          "state": {
            "_model_module": "@jupyter-widgets/controls",
            "_model_module_version": "1.5.0",
            "_model_name": "DescriptionStyleModel",
            "_view_count": null,
            "_view_module": "@jupyter-widgets/base",
            "_view_module_version": "1.2.0",
            "_view_name": "StyleView",
            "description_width": ""
          }
        },
        "89b6e4a06dcf457f916599ffbcdbd019": {
          "model_module": "@jupyter-widgets/base",
          "model_name": "LayoutModel",
          "model_module_version": "1.2.0",
          "state": {
            "_model_module": "@jupyter-widgets/base",
            "_model_module_version": "1.2.0",
            "_model_name": "LayoutModel",
            "_view_count": null,
            "_view_module": "@jupyter-widgets/base",
            "_view_module_version": "1.2.0",
            "_view_name": "LayoutView",
            "align_content": null,
            "align_items": null,
            "align_self": null,
            "border": null,
            "bottom": null,
            "display": null,
            "flex": null,
            "flex_flow": null,
            "grid_area": null,
            "grid_auto_columns": null,
            "grid_auto_flow": null,
            "grid_auto_rows": null,
            "grid_column": null,
            "grid_gap": null,
            "grid_row": null,
            "grid_template_areas": null,
            "grid_template_columns": null,
            "grid_template_rows": null,
            "height": null,
            "justify_content": null,
            "justify_items": null,
            "left": null,
            "margin": null,
            "max_height": null,
            "max_width": null,
            "min_height": null,
            "min_width": null,
            "object_fit": null,
            "object_position": null,
            "order": null,
            "overflow": null,
            "overflow_x": null,
            "overflow_y": null,
            "padding": null,
            "right": null,
            "top": null,
            "visibility": null,
            "width": null
          }
        },
        "ce5448656ba041ffaf5bdebf051398e3": {
          "model_module": "@jupyter-widgets/controls",
          "model_name": "ProgressStyleModel",
          "model_module_version": "1.5.0",
          "state": {
            "_model_module": "@jupyter-widgets/controls",
            "_model_module_version": "1.5.0",
            "_model_name": "ProgressStyleModel",
            "_view_count": null,
            "_view_module": "@jupyter-widgets/base",
            "_view_module_version": "1.2.0",
            "_view_name": "StyleView",
            "bar_color": null,
            "description_width": ""
          }
        },
        "cf873f09112b4e0ba9e42bd7167282dc": {
          "model_module": "@jupyter-widgets/base",
          "model_name": "LayoutModel",
          "model_module_version": "1.2.0",
          "state": {
            "_model_module": "@jupyter-widgets/base",
            "_model_module_version": "1.2.0",
            "_model_name": "LayoutModel",
            "_view_count": null,
            "_view_module": "@jupyter-widgets/base",
            "_view_module_version": "1.2.0",
            "_view_name": "LayoutView",
            "align_content": null,
            "align_items": null,
            "align_self": null,
            "border": null,
            "bottom": null,
            "display": null,
            "flex": null,
            "flex_flow": null,
            "grid_area": null,
            "grid_auto_columns": null,
            "grid_auto_flow": null,
            "grid_auto_rows": null,
            "grid_column": null,
            "grid_gap": null,
            "grid_row": null,
            "grid_template_areas": null,
            "grid_template_columns": null,
            "grid_template_rows": null,
            "height": null,
            "justify_content": null,
            "justify_items": null,
            "left": null,
            "margin": null,
            "max_height": null,
            "max_width": null,
            "min_height": null,
            "min_width": null,
            "object_fit": null,
            "object_position": null,
            "order": null,
            "overflow": null,
            "overflow_x": null,
            "overflow_y": null,
            "padding": null,
            "right": null,
            "top": null,
            "visibility": null,
            "width": null
          }
        },
        "0a710b1e6d49463895b1d4258756dbe7": {
          "model_module": "@jupyter-widgets/controls",
          "model_name": "DescriptionStyleModel",
          "model_module_version": "1.5.0",
          "state": {
            "_model_module": "@jupyter-widgets/controls",
            "_model_module_version": "1.5.0",
            "_model_name": "DescriptionStyleModel",
            "_view_count": null,
            "_view_module": "@jupyter-widgets/base",
            "_view_module_version": "1.2.0",
            "_view_name": "StyleView",
            "description_width": ""
          }
        }
      }
    }
  },
  "cells": [
    {
      "cell_type": "markdown",
      "metadata": {
        "id": "view-in-github",
        "colab_type": "text"
      },
      "source": [
        "<a href=\"https://colab.research.google.com/github/ib565/Gemma-Fine-Tuning-API/blob/main/fine_tune_api.ipynb\" target=\"_parent\"><img src=\"https://colab.research.google.com/assets/colab-badge.svg\" alt=\"Open In Colab\"/></a>"
      ]
    },
    {
      "cell_type": "code",
      "execution_count": 7,
      "metadata": {
        "id": "DUvgwV4EaaXj"
      },
      "outputs": [],
      "source": [
        "%%capture\n",
        "import os\n",
        "if \"COLAB_\" not in \"\".join(os.environ.keys()):\n",
        "    !pip install unsloth vllm\n",
        "else:\n",
        "    # [NOTE] Do the below ONLY in Colab! Use [[pip install unsloth vllm]]\n",
        "    !pip install --no-deps unsloth\n",
        "# Install latest Hugging Face for Gemma-3!\n",
        "!pip install --no-deps transformers"
      ]
    },
    {
      "cell_type": "code",
      "source": [
        "#@title Colab Extra Install { display-mode: \"form\" }\n",
        "%%capture\n",
        "import os\n",
        "if \"COLAB_\" not in \"\".join(os.environ.keys()):\n",
        "    !pip install unsloth vllm\n",
        "else:\n",
        "    !pip install --no-deps unsloth\n",
        "    # [NOTE] Do the below ONLY in Colab! Use [[pip install unsloth vllm]]\n",
        "    # Skip restarting message in Colab\n",
        "    import sys, re, requests; modules = list(sys.modules.keys())\n",
        "    for x in modules: sys.modules.pop(x) if \"PIL\" in x or \"google\" in x else None\n",
        "    !pip install --no-deps bitsandbytes accelerate xformers==0.0.29.post3 peft \"trl==0.15.2\" triton cut_cross_entropy unsloth_zoo\n",
        "    !pip install sentencepiece protobuf datasets huggingface_hub hf_transfer"
      ],
      "metadata": {
        "id": "Kh5kF0u9lJKG"
      },
      "execution_count": 8,
      "outputs": []
    },
    {
      "cell_type": "code",
      "source": [
        "from unsloth import FastModel\n",
        "import torch\n",
        "\n",
        "model, tokenizer = FastModel.from_pretrained(\n",
        "    model_name = \"unsloth/gemma-3-4b-it\",\n",
        "    max_seq_length = 4096, # Choose any for long context!\n",
        "    load_in_4bit = True,  # 4 bit quantization to reduce memory\n",
        "    load_in_8bit = False, # [NEW!] A bit more accurate, uses 2x memory\n",
        "    full_finetuning = False, # [NEW!] We have full finetuning now!\n",
        ")"
      ],
      "metadata": {
        "colab": {
          "base_uri": "https://localhost:8080/"
        },
        "id": "zPTRjQuLlKMO",
        "outputId": "e9e0a98b-8cb3-4a00-eda1-d802fef42e19"
      },
      "execution_count": 9,
      "outputs": [
        {
          "output_type": "stream",
          "name": "stdout",
          "text": [
            "==((====))==  Unsloth 2025.3.19: Fast Gemma3 patching. Transformers: 4.50.3.\n",
            "   \\\\   /|    Tesla T4. Num GPUs = 1. Max memory: 14.741 GB. Platform: Linux.\n",
            "O^O/ \\_/ \\    Torch: 2.6.0+cu124. CUDA: 7.5. CUDA Toolkit: 12.4. Triton: 3.2.0\n",
            "\\        /    Bfloat16 = FALSE. FA [Xformers = 0.0.29.post3. FA2 = False]\n",
            " \"-____-\"     Free license: http://github.com/unslothai/unsloth\n",
            "Unsloth: Fast downloading is enabled - ignore downloading bars which are red colored!\n",
            "Unsloth: Using float16 precision for gemma3 won't work! Using float32.\n"
          ]
        }
      ]
    },
    {
      "cell_type": "code",
      "source": [
        "model = FastModel.get_peft_model(\n",
        "    model,\n",
        "    finetune_vision_layers     = False, # Turn off for just text!\n",
        "    finetune_language_layers   = True,  # Should leave on!\n",
        "    finetune_attention_modules = True,  # Attention good for GRPO\n",
        "    finetune_mlp_modules       = True,  # SHould leave on always!\n",
        "\n",
        "    r = 8,           # Larger = higher accuracy, but might overfit\n",
        "    lora_alpha = 8,  # Recommended alpha == r at least\n",
        "    lora_dropout = 0,\n",
        "    bias = \"none\",\n",
        "    random_state = 3407,\n",
        ")"
      ],
      "metadata": {
        "colab": {
          "base_uri": "https://localhost:8080/"
        },
        "id": "O-FQBEjMlZzC",
        "outputId": "25045163-5d53-4a77-b92d-453d4ee04bb2"
      },
      "execution_count": 10,
      "outputs": [
        {
          "output_type": "stream",
          "name": "stdout",
          "text": [
            "Unsloth: Making `model.base_model.model.language_model.model` require gradients\n"
          ]
        }
      ]
    },
    {
      "cell_type": "code",
      "source": [
        "from unsloth.chat_templates import get_chat_template\n",
        "tokenizer = get_chat_template(\n",
        "    tokenizer,\n",
        "    chat_template = \"gemma-3\",\n",
        ")"
      ],
      "metadata": {
        "id": "QEZcOsjn1B_w"
      },
      "execution_count": 11,
      "outputs": []
    },
    {
      "cell_type": "code",
      "source": [
        "from google.colab import drive\n",
        "drive.mount('/content/drive', force_remount=True)\n"
      ],
      "metadata": {
        "colab": {
          "base_uri": "https://localhost:8080/"
        },
        "id": "ERgAnIkJuVWU",
        "outputId": "8f659a24-162e-4f74-e687-4b45b9173c58"
      },
      "execution_count": 37,
      "outputs": [
        {
          "output_type": "stream",
          "name": "stdout",
          "text": [
            "Mounted at /content/drive\n"
          ]
        }
      ]
    },
    {
      "cell_type": "code",
      "source": [
        "from datasets import load_dataset\n",
        "\n",
        "\n",
        "dataset = load_dataset(\"json\", data_files=\"/content/drive/MyDrive/Datasets/api_pack_python_processed.json\", split=\"train\")"
      ],
      "metadata": {
        "colab": {
          "base_uri": "https://localhost:8080/",
          "height": 49,
          "referenced_widgets": [
            "d3c401c7a76043ebae5ec2d2d24386ca",
            "4ccda3bbb0fd447da88b4db29c049049",
            "3112494818a140d383449be0cdd26b0a",
            "0074fd8521324a7fafc71f8be7fa40c0",
            "97a2da0ba9d344fca3ff9c6c61c3f3a8",
            "91a98955bd1e41ad9e6780ed8a948f78",
            "7ad164af788049a6b3923b7d2fc55111",
            "29c9cb55cc2d4ab394788a6d51ebe1ea",
            "56c215af2b9e4f9f81b13ef5f1531d5a",
            "459d94cb712a451f9fc500df9cc16957",
            "fed63674f7aa4b65858537e808bda2b2"
          ]
        },
        "id": "x-2ESBU21N7t",
        "outputId": "58f85bd8-b02f-47c1-ab0c-1d76724d87d4"
      },
      "execution_count": 38,
      "outputs": [
        {
          "output_type": "display_data",
          "data": {
            "text/plain": [
              "Generating train split: 0 examples [00:00, ? examples/s]"
            ],
            "application/vnd.jupyter.widget-view+json": {
              "version_major": 2,
              "version_minor": 0,
              "model_id": "d3c401c7a76043ebae5ec2d2d24386ca"
            }
          },
          "metadata": {}
        }
      ]
    },
    {
      "cell_type": "code",
      "source": [
        "dataset[100]"
      ],
      "metadata": {
        "colab": {
          "base_uri": "https://localhost:8080/"
        },
        "id": "NzNRiRoZC5dz",
        "outputId": "725b2839-6793-4e3c-e151-521ccf6f3e60"
      },
      "execution_count": 39,
      "outputs": [
        {
          "output_type": "execute_result",
          "data": {
            "text/plain": [
              "{'conversations': [{'content': '**api_description**:Documentation of the Rest services created for CMDM.\\n**lang**:Python\\nYour task:\\n**instruction**\\nCould you kindly show me how to add a new contract record into Master Data Management (MDM) using the CMDM - Service API and its AddContract functionality?\\n**output**',\n",
              "   'role': 'user'},\n",
              "  {'content': 'import http.client\\n\\nconn = http.client.HTTPConnection(\"13.58.88.158:8180\")\\n\\npayload = \"{\\\\\"contract_num\\\\\":\\\\\"0000000610\\\\\",\\\\\"contract_tp\\\\\":\\\\\"CRED\\\\\",\\\\\"currency_tp\\\\\":\\\\\" \\\\\",\\\\\"frequency_tp\\\\\":\\\\\"\\\\\",\\\\\"billing_tp\\\\\":\\\\\"\\\\\",\\\\\"signed_dt\\\\\":\\\\\" \\\\\",\\\\\"executed_dt\\\\\":\\\\\"\\\\\",\\\\\"termination_dt\\\\\":\\\\\"\\\\\",\\\\\"termination_rs_tp\\\\\":\\\\\" \\\\\",\\\\\"contract_st\\\\\":\\\\\"Activo\\\\\",\\\\\"brand_id\\\\\":\\\\\" \\\\\",\\\\\"renegociation_ind\\\\\":\\\\\" \\\\\",\\\\\"renegociation_rs_tp\\\\\":\\\\\"\\\\\",\\\\\"pay_day\\\\\":\\\\\" \\\\\",\\\\\"grace_days\\\\\":\\\\\"\\\\\",\\\\\"invoice_id\\\\\":\\\\\"2000000827\\\\\",\\\\\"discount_cd\\\\\":\\\\\" \\\\\",\\\\\"next_pym_dt\\\\\":\\\\\" \\\\\",\\\\\"monthly_pym\\\\\":\\\\\"0.0\\\\\",\\\\\"monthly_pym_winss\\\\\":\\\\\" \\\\\",\\\\\"expired_quot_num\\\\\":\\\\\"0\\\\\",\\\\\"finance_amt\\\\\":\\\\\"427657.78\\\\\",\\\\\"term\\\\\":\\\\\"48\\\\\",\\\\\"residual_amt\\\\\":\\\\\"0.0\\\\\",\\\\\"disbursement_dt\\\\\":\\\\\" \\\\\",\\\\\"opening_commision\\\\\":\\\\\" \\\\\",\\\\\"amount_requested\\\\\":\\\\\" \\\\\",\\\\\"sourcesys_id\\\\\":\\\\\"100001\\\\\",\\\\\"contrctModules\\\\\":[{\\\\\"contractid\\\\\":\\\\\"1902082100022369368523\\\\\",\\\\\"product_id\\\\\":\\\\\"tmp\\\\\",\\\\\"total_amt\\\\\":\\\\\"\\\\\",\\\\\"premium_amt\\\\\":\\\\\"\\\\\",\\\\\"issue_dt\\\\\":\\\\\"2019-02-07T00:00:00\\\\\",\\\\\"expirity_dt\\\\\":\\\\\"2049-02-07T00:00:00\\\\\",\\\\\"credit\\\\\":[{\\\\\"contractmoduleid\\\\\":\\\\\"1902091928036797600289\\\\\",\\\\\"credit_num\\\\\":\\\\\"0000000610\\\\\",\\\\\"credit_line_amt\\\\\":\\\\\"\\\\\",\\\\\"interest_rate\\\\\":\\\\\" \\\\\",\\\\\"financial_institution\\\\\":\\\\\"\\\\\",\\\\\"special_pym\\\\\":\\\\\"\\\\\",\\\\\"sourcesys_id\\\\\":\\\\\"100001\\\\\"}],\\\\\"asset\\\\\":[{\\\\\"contractmoduleid\\\\\":\\\\\"1902181701003064530765\\\\\",\\\\\"brand_id\\\\\":\\\\\"Mitsubishi\\\\\",\\\\\"model\\\\\":\\\\\"2017\\\\\",\\\\\"version_id\\\\\":\\\\\"PICK-UP DOB CAB AC DIESEL 4X4\\\\\",\\\\\"year\\\\\":\\\\\"2017\\\\\",\\\\\"vin\\\\\":\\\\\"3N6AD33A7KK813309\\\\\",\\\\\"engine\\\\\":\\\\\"\\\\\",\\\\\"nature_tp\\\\\":\\\\\"\\\\\",\\\\\"color_id\\\\\":\\\\\"\\\\\",\\\\\"use_tp\\\\\":\\\\\"\\\\\",\\\\\"plates\\\\\":\\\\\"\\\\\",\\\\\"value_amt\\\\\":\\\\\"\\\\\"}],\\\\\"partyContractRole\\\\\":[{\\\\\"partyid\\\\\":\\\\\"2019020715361600064957725941\\\\\",\\\\\"contractmoduleid\\\\\":\\\\\"1902091928036797600289\\\\\",\\\\\"role_tp\\\\\":\\\\\"\\\\\",\\\\\"participation_share\\\\\":\\\\\"\\\\\",\\\\\"changerole_ind\\\\\":\\\\\"\\\\\",\\\\\"sourcesys_id\\\\\":\\\\\"100001\\\\\"}]}]}\"\\n\\nheaders = {\\n    \\'Authorization\\': \"Basic REPLACE_BASIC_AUTH\",\\n    \\'content-type\\': \"application/json\"\\n    }\\n\\nconn.request(\"POST\", \"/talendmdm/services/rest/data/CMDM/contract/add\", payload, headers)\\n\\nres = conn.getresponse()\\ndata = res.read()\\n\\nprint(data.decode(\"utf-8\"))',\n",
              "   'role': 'assistant'}]}"
            ]
          },
          "metadata": {},
          "execution_count": 39
        }
      ]
    },
    {
      "cell_type": "code",
      "source": [
        "from unsloth.chat_templates import standardize_data_formats\n",
        "dataset = standardize_data_formats(dataset)"
      ],
      "metadata": {
        "colab": {
          "base_uri": "https://localhost:8080/",
          "height": 77,
          "referenced_widgets": [
            "482c2efabb9b49b2872ee1da4d2f8b61",
            "81f3d7585aa4447d8148e583f3fb03d1",
            "ca55af7e60af477bb70d893be7d0adf1",
            "8c9bad7f8a7c4010b0d319e59c61f41d",
            "90839db6132d43ac8317061af96ecc06",
            "8526f964ab354eaebae638ce447aeaa8",
            "6eb9ce031d814537a7cb348e6de0cf01",
            "b0a43bb7433a4e509ba200de7c4a98ac",
            "42a434c93ecf4d06ab711b4846b0ab89",
            "d90af28e65394e208e430fe0ddfd6615",
            "e3ae889b422f4295817eb9f004cfdcb2"
          ]
        },
        "id": "8aL7qDIOvR8c",
        "outputId": "4113d6b4-e5b0-423a-d972-94ee0a2ca25a"
      },
      "execution_count": 40,
      "outputs": [
        {
          "output_type": "display_data",
          "data": {
            "text/plain": [
              "Unsloth: Standardizing formats (num_proc=2):   0%|          | 0/100860 [00:00<?, ? examples/s]"
            ],
            "application/vnd.jupyter.widget-view+json": {
              "version_major": 2,
              "version_minor": 0,
              "model_id": "482c2efabb9b49b2872ee1da4d2f8b61"
            }
          },
          "metadata": {}
        }
      ]
    },
    {
      "cell_type": "code",
      "source": [
        "from unsloth.chat_templates import get_chat_template\n",
        "tokenizer = get_chat_template(\n",
        "    tokenizer,\n",
        "    chat_template = \"gemma-3\",\n",
        ")"
      ],
      "metadata": {
        "id": "Opc0GQ5fDRHE"
      },
      "execution_count": 42,
      "outputs": []
    },
    {
      "cell_type": "code",
      "source": [
        "dataset[100]"
      ],
      "metadata": {
        "colab": {
          "base_uri": "https://localhost:8080/"
        },
        "id": "8gy9gubmDY2_",
        "outputId": "f0c9d484-1025-4304-c084-16d44e3f3d2e"
      },
      "execution_count": 41,
      "outputs": [
        {
          "output_type": "execute_result",
          "data": {
            "text/plain": [
              "{'conversations': [{'content': '**api_description**:Documentation of the Rest services created for CMDM.\\n**lang**:Python\\nYour task:\\n**instruction**\\nCould you kindly show me how to add a new contract record into Master Data Management (MDM) using the CMDM - Service API and its AddContract functionality?\\n**output**',\n",
              "   'role': 'user'},\n",
              "  {'content': 'import http.client\\n\\nconn = http.client.HTTPConnection(\"13.58.88.158:8180\")\\n\\npayload = \"{\\\\\"contract_num\\\\\":\\\\\"0000000610\\\\\",\\\\\"contract_tp\\\\\":\\\\\"CRED\\\\\",\\\\\"currency_tp\\\\\":\\\\\" \\\\\",\\\\\"frequency_tp\\\\\":\\\\\"\\\\\",\\\\\"billing_tp\\\\\":\\\\\"\\\\\",\\\\\"signed_dt\\\\\":\\\\\" \\\\\",\\\\\"executed_dt\\\\\":\\\\\"\\\\\",\\\\\"termination_dt\\\\\":\\\\\"\\\\\",\\\\\"termination_rs_tp\\\\\":\\\\\" \\\\\",\\\\\"contract_st\\\\\":\\\\\"Activo\\\\\",\\\\\"brand_id\\\\\":\\\\\" \\\\\",\\\\\"renegociation_ind\\\\\":\\\\\" \\\\\",\\\\\"renegociation_rs_tp\\\\\":\\\\\"\\\\\",\\\\\"pay_day\\\\\":\\\\\" \\\\\",\\\\\"grace_days\\\\\":\\\\\"\\\\\",\\\\\"invoice_id\\\\\":\\\\\"2000000827\\\\\",\\\\\"discount_cd\\\\\":\\\\\" \\\\\",\\\\\"next_pym_dt\\\\\":\\\\\" \\\\\",\\\\\"monthly_pym\\\\\":\\\\\"0.0\\\\\",\\\\\"monthly_pym_winss\\\\\":\\\\\" \\\\\",\\\\\"expired_quot_num\\\\\":\\\\\"0\\\\\",\\\\\"finance_amt\\\\\":\\\\\"427657.78\\\\\",\\\\\"term\\\\\":\\\\\"48\\\\\",\\\\\"residual_amt\\\\\":\\\\\"0.0\\\\\",\\\\\"disbursement_dt\\\\\":\\\\\" \\\\\",\\\\\"opening_commision\\\\\":\\\\\" \\\\\",\\\\\"amount_requested\\\\\":\\\\\" \\\\\",\\\\\"sourcesys_id\\\\\":\\\\\"100001\\\\\",\\\\\"contrctModules\\\\\":[{\\\\\"contractid\\\\\":\\\\\"1902082100022369368523\\\\\",\\\\\"product_id\\\\\":\\\\\"tmp\\\\\",\\\\\"total_amt\\\\\":\\\\\"\\\\\",\\\\\"premium_amt\\\\\":\\\\\"\\\\\",\\\\\"issue_dt\\\\\":\\\\\"2019-02-07T00:00:00\\\\\",\\\\\"expirity_dt\\\\\":\\\\\"2049-02-07T00:00:00\\\\\",\\\\\"credit\\\\\":[{\\\\\"contractmoduleid\\\\\":\\\\\"1902091928036797600289\\\\\",\\\\\"credit_num\\\\\":\\\\\"0000000610\\\\\",\\\\\"credit_line_amt\\\\\":\\\\\"\\\\\",\\\\\"interest_rate\\\\\":\\\\\" \\\\\",\\\\\"financial_institution\\\\\":\\\\\"\\\\\",\\\\\"special_pym\\\\\":\\\\\"\\\\\",\\\\\"sourcesys_id\\\\\":\\\\\"100001\\\\\"}],\\\\\"asset\\\\\":[{\\\\\"contractmoduleid\\\\\":\\\\\"1902181701003064530765\\\\\",\\\\\"brand_id\\\\\":\\\\\"Mitsubishi\\\\\",\\\\\"model\\\\\":\\\\\"2017\\\\\",\\\\\"version_id\\\\\":\\\\\"PICK-UP DOB CAB AC DIESEL 4X4\\\\\",\\\\\"year\\\\\":\\\\\"2017\\\\\",\\\\\"vin\\\\\":\\\\\"3N6AD33A7KK813309\\\\\",\\\\\"engine\\\\\":\\\\\"\\\\\",\\\\\"nature_tp\\\\\":\\\\\"\\\\\",\\\\\"color_id\\\\\":\\\\\"\\\\\",\\\\\"use_tp\\\\\":\\\\\"\\\\\",\\\\\"plates\\\\\":\\\\\"\\\\\",\\\\\"value_amt\\\\\":\\\\\"\\\\\"}],\\\\\"partyContractRole\\\\\":[{\\\\\"partyid\\\\\":\\\\\"2019020715361600064957725941\\\\\",\\\\\"contractmoduleid\\\\\":\\\\\"1902091928036797600289\\\\\",\\\\\"role_tp\\\\\":\\\\\"\\\\\",\\\\\"participation_share\\\\\":\\\\\"\\\\\",\\\\\"changerole_ind\\\\\":\\\\\"\\\\\",\\\\\"sourcesys_id\\\\\":\\\\\"100001\\\\\"}]}]}\"\\n\\nheaders = {\\n    \\'Authorization\\': \"Basic REPLACE_BASIC_AUTH\",\\n    \\'content-type\\': \"application/json\"\\n    }\\n\\nconn.request(\"POST\", \"/talendmdm/services/rest/data/CMDM/contract/add\", payload, headers)\\n\\nres = conn.getresponse()\\ndata = res.read()\\n\\nprint(data.decode(\"utf-8\"))',\n",
              "   'role': 'assistant'}]}"
            ]
          },
          "metadata": {},
          "execution_count": 41
        }
      ]
    },
    {
      "cell_type": "code",
      "source": [
        "def apply_chat_template(examples):\n",
        "    texts = tokenizer.apply_chat_template(examples[\"conversations\"])\n",
        "    return { \"text\" : texts }\n",
        "pass\n",
        "dataset = dataset.map(apply_chat_template, batched = True)"
      ],
      "metadata": {
        "colab": {
          "base_uri": "https://localhost:8080/",
          "height": 49,
          "referenced_widgets": [
            "6efd574646844c0e8badfe777b60ebc5",
            "1419c10b56b6471c91a73acf198a3b06",
            "c3bb2b844f2a4785837f2a7230e20a25",
            "de16456c62c84a8b9547864cdeab58cd",
            "287b33437c624d64ba1834d04b026d93",
            "5169b0d3a0f640978cb0d8f395d11cd9",
            "337e5266273744609fcdbfeb55479972",
            "89b6e4a06dcf457f916599ffbcdbd019",
            "ce5448656ba041ffaf5bdebf051398e3",
            "cf873f09112b4e0ba9e42bd7167282dc",
            "0a710b1e6d49463895b1d4258756dbe7"
          ]
        },
        "id": "khAlKZNTDPIm",
        "outputId": "61853a11-0a00-4256-eb39-a9bded60b559"
      },
      "execution_count": 44,
      "outputs": [
        {
          "output_type": "display_data",
          "data": {
            "text/plain": [
              "Map:   0%|          | 0/100860 [00:00<?, ? examples/s]"
            ],
            "application/vnd.jupyter.widget-view+json": {
              "version_major": 2,
              "version_minor": 0,
              "model_id": "6efd574646844c0e8badfe777b60ebc5"
            }
          },
          "metadata": {}
        }
      ]
    }
  ]
}